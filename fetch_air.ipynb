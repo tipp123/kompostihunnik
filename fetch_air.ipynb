{
 "cells": [
  {
   "cell_type": "code",
   "execution_count": 8,
   "metadata": {},
   "outputs": [
    {
     "name": "stdout",
     "output_type": "stream",
     "text": [
      "200\n",
      "﻿Kuupäev;SO2;NO2;CO;O3;PM10;PM2.5;TEMP;WD10;WS10\n",
      "\"2023-03-23 15:00\";0,2;0,1;0,23;71,1;8,5;4,7;9,9;207;1,2\n",
      "\"2023-03-23 14:00\";0,2;0,8;0,23;70,6;8,5;4,7;9,8;205;1,4\n",
      "\"2023-03-23 13:00\";0,3;-0,2;0,24;70,5;7,8;4,7;9,7;203;1,5\n",
      "\"2023-03-23 12:00\";0,2;-0,5;0,24;67,5;7,0;4,7;9,5;200;1,5\n",
      "\"2023-03-23 11:00\";0,2;0,1;0,26;59,4;7,0;4,7;8,4;211;1,3\n",
      "\"2023-03-23 10:00\";0,2;0,0;0,38;51,9;6,2;3,1;8,3;200;1,2\n",
      "\"2023-03-23 09:00\";0,1;0,1;0,31;51,6;5,4;1,6;8,0;200;1,4\n",
      "\"2023-03-23 08:00\";0,0;0,1;0,28;53,9;5,4;1,6;7,9;195;1,6\n",
      "\"2023-03-23 07:00\";0,1;0,1;0,22;57,7;7,0;2,4;7,8;184;1,8\n",
      "\"2023-03-23 06:00\";0,1;-0,1;0,21;59,3;8,5;3,1;7,7;181;2,3\n",
      "\"2023-03-23 05:00\";0,2;0,1;0,21;60,8;8,5;3,1;7,6;177;2,5\n",
      "\"2023-03-23 04:00\";0,1;-0,1;0,21;63,8;9,7;4,7;7,5;177;2,2\n",
      "\"2023-03-23 03:00\";0,0;-0,0;0,21;63,6;10,9;6,3;7,5;175;2,3\n",
      "\"2023-03-23 02:00\";0,1;-0,0;0,21;64,2;10,9;6,3;7,4;178;2,3\n",
      "\"2023-03-23 01:00\";0,1;-0,2;0,22;65,8;14,0;7,5;7,4;172;2,5\n",
      "\"2023-03-23 00:00\";-0,0;-0,2;0,24;64,3;17,1;8,6;7,3;172;2,4\n",
      "\n"
     ]
    }
   ],
   "source": [
    "import requests\n",
    "\n",
    "def fetch_air_range(station_id, date_from, date_until):\n",
    "    url = \"https://airviro.klab.ee/station/csv\"\n",
    "    data = {\n",
    "        'filter[type]': 'INDICATOR',\n",
    "        'filter[cancelSearch]': '',\n",
    "        'filter[stationId]': station_id,\n",
    "        'filter[dateFrom]': date_from,\n",
    "        'filter[dateUntil]': date_until,\n",
    "        'filter[submitHit]': '1',\n",
    "        'filter[indicatorIds]': '' \n",
    "    }\n",
    "    response = requests.post(url, data)\n",
    "    return response.text\n",
    "\n",
    "import datetime\n",
    "\n",
    "def get_first_and_last_day_of_month(year, month):\n",
    "    # Get the first day of the month\n",
    "    first_day = datetime.date(year, month, 1)\n",
    "\n",
    "    # Get the number of days in the month\n",
    "    if month == 12:\n",
    "        num_days = 31\n",
    "    else:\n",
    "        num_days = (datetime.date(year, month+1, 1) - datetime.timedelta(days=1)).day\n",
    "\n",
    "    # Get the last day of the month\n",
    "    last_day = datetime.date(year, month, num_days)\n",
    "\n",
    "    return first_day, last_day"
   ]
  },
  {
   "cell_type": "code",
   "execution_count": null,
   "metadata": {},
   "outputs": [],
   "source": [
    "for month in range(1,13):\n",
    "    first_day, last_day = get_first_and_last_day_of_month(2022, month)\n",
    "    print(first_day, last_day)\n",
    "\n",
    "    data = fetch_air_range(8, first_day, last_day)\n",
    "\n",
    "    with open(f'air_{month}.csv', 'w') as f:\n",
    "        f.write(data)"
   ]
  }
 ],
 "metadata": {
  "kernelspec": {
   "display_name": "Python 3",
   "language": "python",
   "name": "python3"
  },
  "language_info": {
   "codemirror_mode": {
    "name": "ipython",
    "version": 3
   },
   "file_extension": ".py",
   "mimetype": "text/x-python",
   "name": "python",
   "nbconvert_exporter": "python",
   "pygments_lexer": "ipython3",
   "version": "3.10.7"
  },
  "orig_nbformat": 4
 },
 "nbformat": 4,
 "nbformat_minor": 2
}
